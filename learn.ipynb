{
 "metadata": {
  "language_info": {
   "codemirror_mode": {
    "name": "ipython",
    "version": 3
   },
   "file_extension": ".py",
   "mimetype": "text/x-python",
   "name": "python",
   "nbconvert_exporter": "python",
   "pygments_lexer": "ipython3",
   "version": "3.7.3-final"
  },
  "orig_nbformat": 2,
  "kernelspec": {
   "name": "python3",
   "display_name": "Python 3"
  }
 },
 "nbformat": 4,
 "nbformat_minor": 2,
 "cells": [
  {
   "cell_type": "code",
   "execution_count": null,
   "metadata": {},
   "outputs": [],
   "source": [
    "# Learn array operations"
   ]
  },
  {
   "cell_type": "code",
   "execution_count": 3,
   "metadata": {},
   "outputs": [
    {
     "output_type": "stream",
     "name": "stdout",
     "text": [
      "[0 1 2 3 4 5]\n1\n1\n1\n1\n1\n"
     ]
    }
   ],
   "source": [
    "import numpy\n",
    "\n",
    "u = numpy.array((0,1,2,3,4,5))\n",
    "print(u)\n",
    "# u = numpy.array(range(6))\n",
    "# print(u) lol same\n",
    "\n",
    "for i in range(1,len(u)): # range(1,6) -> 1 to 5\n",
    "    print(u[i]-u[i-1])"
   ]
  },
  {
   "cell_type": "code",
   "execution_count": 4,
   "metadata": {},
   "outputs": [
    {
     "output_type": "execute_result",
     "data": {
      "text/plain": [
       "array([1, 2, 3, 4, 5])"
      ]
     },
     "metadata": {},
     "execution_count": 4
    }
   ],
   "source": [
    "u[1:]"
   ]
  },
  {
   "cell_type": "code",
   "execution_count": 7,
   "metadata": {},
   "outputs": [
    {
     "output_type": "execute_result",
     "data": {
      "text/plain": [
       "array([0, 1, 2, 3, 4])"
      ]
     },
     "metadata": {},
     "execution_count": 7
    }
   ],
   "source": [
    "u[0:-1]"
   ]
  },
  {
   "cell_type": "code",
   "execution_count": 9,
   "metadata": {},
   "outputs": [
    {
     "output_type": "execute_result",
     "data": {
      "text/plain": [
       "array([1, 1, 1, 1, 1])"
      ]
     },
     "metadata": {},
     "execution_count": 9
    }
   ],
   "source": [
    "u[1:]-u[0:-1]"
   ]
  },
  {
   "cell_type": "code",
   "execution_count": 10,
   "metadata": {},
   "outputs": [
    {
     "output_type": "stream",
     "name": "stdout",
     "text": [
      "[[1. 1. 1. ... 1. 1. 1.]\n [1. 1. 1. ... 1. 1. 1.]\n [1. 1. 1. ... 1. 1. 1.]\n ...\n [1. 1. 1. ... 1. 1. 1.]\n [1. 1. 1. ... 1. 1. 1.]\n [1. 1. 1. ... 1. 1. 1.]]\n"
     ]
    }
   ],
   "source": [
    "nx = 81\n",
    "ny = 81\n",
    "nt = 100\n",
    "c = 1\n",
    "dx = 2 / (nx - 1)\n",
    "dy = 2 / (ny - 1)\n",
    "sigma = 0.2\n",
    "dt = sigma * dx\n",
    "\n",
    "x = numpy.linspace(0, 2, nx)\n",
    "y = numpy.linspace(0, 2, ny)\n",
    "\n",
    "u = numpy.ones((ny, nx))\n",
    "print(u)\n",
    "un = numpy.ones((ny, nx))\n",
    "\n",
    "u[int(.5 / dy): int(1 / dy + 1), int(.5 / dx):int(1 / dx + 1)] = 2"
   ]
  },
  {
   "cell_type": "code",
   "execution_count": 13,
   "metadata": {},
   "outputs": [
    {
     "output_type": "stream",
     "name": "stdout",
     "text": [
      "4.13 s ± 366 ms per loop (mean ± std. dev. of 7 runs, 1 loop each)\n"
     ]
    }
   ],
   "source": [
    "%%timeit\n",
    "u = numpy.ones((ny, nx))\n",
    "u[int(.5 / dy): int(1 / dy + 1), int(.5 / dx):int(1 / dx + 1)] = 2\n",
    "\n",
    "for n in range(nt+1):\n",
    "    un = u.copy()\n",
    "    row, col = u.shape # MATLAB equiv is size(u)\n",
    "    for j in range(1, row):\n",
    "        for i in range(1, col):\n",
    "            u[j, i] = (un[j, i] - (c * dt / dx * \n",
    "                                  (un[j, i] - un[j, i - 1])) - \n",
    "                                  (c * dt / dy * \n",
    "                                   (un[j, i] - un[j - 1, i])))\n",
    "            u[0, :] = 1\n",
    "            u[-1, :] = 1\n",
    "            u[:, 0] = 1\n",
    "            u[:, -1] = 1\n"
   ]
  },
  {
   "cell_type": "code",
   "execution_count": 14,
   "metadata": {},
   "outputs": [
    {
     "output_type": "stream",
     "name": "stdout",
     "text": [
      "7.42 ms ± 105 µs per loop (mean ± std. dev. of 7 runs, 100 loops each)\n"
     ]
    }
   ],
   "source": [
    "%%timeit\n",
    "u = numpy.ones((ny, nx))\n",
    "u[int(.5 / dy): int(1 / dy + 1), int(.5 / dx):int(1 / dx + 1)] = 2\n",
    "\n",
    "for n in range(nt+1):\n",
    "    un = u.copy()\n",
    "    u[1:,1:] = (un[1:, 1:] - (c * dt / dx * (un[1:, 1:] - un[1:, 0:-1])) -\n",
    "                              (c * dt / dy * (un[1:, 1:] - un[0:-1, 1:])))\n",
    "    u[0, :] = 1\n",
    "    u[-1, :] = 1\n",
    "    u[:, 0] = 1\n",
    "    u[:, -1] = 1"
   ]
  },
  {
   "cell_type": "code",
   "execution_count": null,
   "metadata": {},
   "outputs": [],
   "source": []
  }
 ]
}